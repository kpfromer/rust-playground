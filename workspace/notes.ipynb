{
 "cells": [
  {
   "cell_type": "markdown",
   "id": "conditional-victor",
   "metadata": {},
   "source": [
    "rustup doc --std"
   ]
  },
  {
   "cell_type": "markdown",
   "id": "handed-solution",
   "metadata": {},
   "source": [
    "**Todo:**\n",
    "\n",
    "- https://stevedonovan.github.io/rust-gentle-intro/1-basics.html\n",
    "- https://github.com/sn99/rust-practise-questions"
   ]
  },
  {
   "cell_type": "code",
   "execution_count": null,
   "id": "flush-yield",
   "metadata": {},
   "outputs": [],
   "source": []
  }
 ],
 "metadata": {
  "kernelspec": {
   "display_name": "Rust",
   "language": "rust",
   "name": "rust"
  },
  "language_info": {
   "codemirror_mode": "rust",
   "file_extension": ".rs",
   "mimetype": "text/rust",
   "name": "Rust",
   "pygment_lexer": "rust",
   "version": ""
  }
 },
 "nbformat": 4,
 "nbformat_minor": 5
}
