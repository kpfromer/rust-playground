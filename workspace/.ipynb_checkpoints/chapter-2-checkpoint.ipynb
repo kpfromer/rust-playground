{
 "cells": [
  {
   "cell_type": "markdown",
   "id": "upset-scroll",
   "metadata": {},
   "source": [
    "# Chapter 2 - Expressions"
   ]
  },
  {
   "cell_type": "markdown",
   "id": "civilian-austin",
   "metadata": {},
   "source": [
    "1. Print following using loops:\n",
    "    ```\n",
    "         *\n",
    "        ***\n",
    "       *****\n",
    "      *******\n",
    "     *********\n",
    "    ```"
   ]
  },
  {
   "cell_type": "code",
   "execution_count": 37,
   "id": "cosmetic-microwave",
   "metadata": {},
   "outputs": [],
   "source": [
    "fn stars(amount: u32) {\n",
    "    let length = (amount - 1) * 2 + 1;\n",
    "    let mid = length / 2;\n",
    "    \n",
    "    for level in 0..amount {\n",
    "//         Fixes overflow\n",
    "        let start = if level > mid {0} else {mid - level};\n",
    "        let end = mid + level;\n",
    "        \n",
    "        let mut line = \"\".to_string();\n",
    "        \n",
    "        for i in 0..length {\n",
    "            line.push(if start <= i && i <= end {'*'} else {' '} )\n",
    "        }\n",
    "        println!(\"{}\", line);\n",
    "    }\n",
    "}"
   ]
  },
  {
   "cell_type": "code",
   "execution_count": 38,
   "id": "distant-bargain",
   "metadata": {},
   "outputs": [
    {
     "name": "stdout",
     "output_type": "stream",
     "text": [
      "    *    \n",
      "   ***   \n",
      "  *****  \n",
      " ******* \n",
      "*********\n"
     ]
    }
   ],
   "source": [
    "stars(5);"
   ]
  },
  {
   "cell_type": "code",
   "execution_count": 39,
   "id": "advised-carol",
   "metadata": {},
   "outputs": [
    {
     "name": "stdout",
     "output_type": "stream",
     "text": [
      "   *   \n",
      "  ***  \n",
      " ***** \n",
      "*******\n"
     ]
    }
   ],
   "source": [
    "stars(4);"
   ]
  },
  {
   "cell_type": "code",
   "execution_count": 40,
   "id": "reserved-canadian",
   "metadata": {},
   "outputs": [
    {
     "name": "stdout",
     "output_type": "stream",
     "text": [
      "                   *                   \n",
      "                  ***                  \n",
      "                 *****                 \n",
      "                *******                \n",
      "               *********               \n",
      "              ***********              \n",
      "             *************             \n",
      "            ***************            \n",
      "           *****************           \n",
      "          *******************          \n",
      "         *********************         \n",
      "        ***********************        \n",
      "       *************************       \n",
      "      ***************************      \n",
      "     *****************************     \n",
      "    *******************************    \n",
      "   *********************************   \n",
      "  ***********************************  \n",
      " ************************************* \n",
      "***************************************\n"
     ]
    }
   ],
   "source": [
    "stars(20);"
   ]
  },
  {
   "cell_type": "markdown",
   "id": "expected-frequency",
   "metadata": {},
   "source": [
    "2. Check whether the input number is odd or even and print odd or even respectively."
   ]
  },
  {
   "cell_type": "code",
   "execution_count": 41,
   "id": "referenced-cosmetic",
   "metadata": {},
   "outputs": [],
   "source": [
    "fn odd_or_even(input: i32) {\n",
    "    println!(\"{}\", if input % 2 == 0 {\"even\"} else {\"odd\"});\n",
    "}"
   ]
  },
  {
   "cell_type": "code",
   "execution_count": 42,
   "id": "fabulous-disability",
   "metadata": {},
   "outputs": [
    {
     "name": "stdout",
     "output_type": "stream",
     "text": [
      "even\n",
      "odd\n"
     ]
    }
   ],
   "source": [
    "odd_or_even(10);\n",
    "odd_or_even(11);"
   ]
  },
  {
   "cell_type": "markdown",
   "id": "liberal-enclosure",
   "metadata": {},
   "source": [
    "3. Find and print factorial of a program using recursion."
   ]
  },
  {
   "cell_type": "code",
   "execution_count": 54,
   "id": "introductory-astrology",
   "metadata": {},
   "outputs": [],
   "source": [
    "fn factorial_recursive(n: u32) -> u32 {\n",
    "    if n <= 0 { 1 } else { n * factorial_recursive(n - 1) }\n",
    "}"
   ]
  },
  {
   "cell_type": "code",
   "execution_count": 55,
   "id": "overhead-seeking",
   "metadata": {},
   "outputs": [
    {
     "data": {
      "text/plain": [
       "3628800"
      ]
     },
     "execution_count": 55,
     "metadata": {},
     "output_type": "execute_result"
    }
   ],
   "source": [
    "factorial_recursive(10)"
   ]
  },
  {
   "cell_type": "markdown",
   "id": "unauthorized-portal",
   "metadata": {},
   "source": [
    "4. Using a match statement to print one for input 1, two for 2 and so on, and NaN on default. "
   ]
  },
  {
   "cell_type": "code",
   "execution_count": null,
   "id": "synthetic-classics",
   "metadata": {},
   "outputs": [],
   "source": [
    "fn match_num()\n",
    "// TODO"
   ]
  }
 ],
 "metadata": {
  "kernelspec": {
   "display_name": "Rust",
   "language": "rust",
   "name": "rust"
  },
  "language_info": {
   "codemirror_mode": "rust",
   "file_extension": ".rs",
   "mimetype": "text/rust",
   "name": "Rust",
   "pygment_lexer": "rust",
   "version": ""
  }
 },
 "nbformat": 4,
 "nbformat_minor": 5
}
