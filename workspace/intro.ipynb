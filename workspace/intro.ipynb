{
 "cells": [
  {
   "cell_type": "markdown",
   "id": "typical-editor",
   "metadata": {},
   "source": [
    "# My Intro Rust\n",
    "\n",
    "## Basics"
   ]
  },
  {
   "cell_type": "code",
   "execution_count": 7,
   "id": "accurate-profit",
   "metadata": {},
   "outputs": [],
   "source": [
    "// hello.rs\n",
    "fn main() {\n",
    "    println!(\"Hello, World!\");\n",
    "}"
   ]
  },
  {
   "cell_type": "code",
   "execution_count": 8,
   "id": "color-handle",
   "metadata": {},
   "outputs": [
    {
     "name": "stdout",
     "output_type": "stream",
     "text": [
      "Hello, World!\n"
     ]
    }
   ],
   "source": [
    "main();"
   ]
  },
  {
   "cell_type": "markdown",
   "id": "postal-final",
   "metadata": {},
   "source": [
    "This workspace is using jupyterlab and thus rust is can be run like a script. But for regular programs `main` is the default function like in C and C++."
   ]
  },
  {
   "cell_type": "code",
   "execution_count": 14,
   "id": "primary-stuff",
   "metadata": {},
   "outputs": [
    {
     "name": "stdout",
     "output_type": "stream",
     "text": [
      "1\n",
      "2\n",
      "3\n",
      "4\n"
     ]
    },
    {
     "data": {
      "text/plain": [
       "()"
      ]
     },
     "execution_count": 14,
     "metadata": {},
     "output_type": "execute_result"
    }
   ],
   "source": [
    "for i in 1..5 {\n",
    "    println!(\"{}\", i);\n",
    "}"
   ]
  },
  {
   "cell_type": "markdown",
   "id": "capital-chess",
   "metadata": {},
   "source": [
    "**Variables**"
   ]
  },
  {
   "cell_type": "code",
   "execution_count": 16,
   "id": "honey-kinase",
   "metadata": {},
   "outputs": [],
   "source": [
    "let number = 45;\n",
    "assert_eq!(number, 45);"
   ]
  },
  {
   "cell_type": "markdown",
   "id": "fluid-decision",
   "metadata": {},
   "source": [
    "### Looping"
   ]
  },
  {
   "cell_type": "code",
   "execution_count": 17,
   "id": "durable-metropolitan",
   "metadata": {},
   "outputs": [
    {
     "name": "stdout",
     "output_type": "stream",
     "text": [
      "Hello 0\n",
      "Hello 1\n",
      "Hello 2\n",
      "Hello 3\n",
      "Hello 4\n"
     ]
    },
    {
     "data": {
      "text/plain": [
       "()"
      ]
     },
     "execution_count": 17,
     "metadata": {},
     "output_type": "execute_result"
    }
   ],
   "source": [
    "for i in 0..5 {\n",
    "    println!(\"Hello {}\", i);\n",
    "}"
   ]
  },
  {
   "cell_type": "code",
   "execution_count": 18,
   "id": "color-correction",
   "metadata": {},
   "outputs": [
    {
     "name": "stdout",
     "output_type": "stream",
     "text": [
      "even 0\n",
      "odd 1\n",
      "even 2\n",
      "odd 3\n",
      "even 4\n"
     ]
    },
    {
     "data": {
      "text/plain": [
       "()"
      ]
     },
     "execution_count": 18,
     "metadata": {},
     "output_type": "execute_result"
    }
   ],
   "source": [
    "for i in 0..5 {\n",
    "    if i % 2 == 0 {\n",
    "        println!(\"even {}\", i);\n",
    "    } else {\n",
    "        println!(\"odd {}\", i);\n",
    "    }\n",
    "}"
   ]
  },
  {
   "cell_type": "markdown",
   "id": "italian-champagne",
   "metadata": {},
   "source": [
    "Tenarary Operator:"
   ]
  },
  {
   "cell_type": "code",
   "execution_count": 20,
   "id": "convertible-appearance",
   "metadata": {},
   "outputs": [
    {
     "name": "stdout",
     "output_type": "stream",
     "text": [
      "even 0\n",
      "odd 1\n",
      "even 2\n",
      "odd 3\n",
      "even 4\n"
     ]
    },
    {
     "data": {
      "text/plain": [
       "()"
      ]
     },
     "execution_count": 20,
     "metadata": {},
     "output_type": "execute_result"
    }
   ],
   "source": [
    "for i in 0..5 {\n",
    "    let even_odd = if i % 2 == 0 { \"even\" } else { \"odd\" };\n",
    "    println!(\"{} {}\", even_odd, i);\n",
    "}"
   ]
  },
  {
   "cell_type": "code",
   "execution_count": 21,
   "id": "positive-hospital",
   "metadata": {},
   "outputs": [
    {
     "ename": "Error",
     "evalue": "cannot assign twice to immutable variable `sum`",
     "output_type": "error",
     "traceback": [
      "let sum = 0;",
      "\u001b[91m    ^^^\u001b[0m \u001b[94mfirst assignment to `sum`\u001b[0m",
      "    sum += i;",
      "\u001b[91m    ^^^^^^^^\u001b[0m \u001b[94mcannot assign twice to immutable variable\u001b[0m",
      "cannot assign twice to immutable variable `sum`",
      "\u001b[1mhelp\u001b[0m: make this binding mutable\n\nmut sum"
     ]
    }
   ],
   "source": [
    "let sum = 0;\n",
    "for i in 0..5 {\n",
    "    sum += i;\n",
    "}\n",
    "println!(\"Sum is {}\", sum);"
   ]
  },
  {
   "cell_type": "markdown",
   "id": "stock-pregnancy",
   "metadata": {},
   "source": [
    "By default variables are immutable.\n",
    "\n",
    "To create mutable variables you need to add `mut`:"
   ]
  },
  {
   "cell_type": "code",
   "execution_count": 22,
   "id": "recovered-experiment",
   "metadata": {},
   "outputs": [
    {
     "name": "stdout",
     "output_type": "stream",
     "text": [
      "Sum is 10\n"
     ]
    }
   ],
   "source": [
    "let mut sum = 0;\n",
    "for i in 0..5 {\n",
    "    sum += i;\n",
    "}\n",
    "println!(\"Sum is {}\", sum);"
   ]
  },
  {
   "cell_type": "markdown",
   "id": "painful-screen",
   "metadata": {},
   "source": [
    "### Functions"
   ]
  },
  {
   "cell_type": "code",
   "execution_count": 23,
   "id": "respiratory-aaron",
   "metadata": {},
   "outputs": [],
   "source": [
    "fn sqr(x: f64) -> f64 {\n",
    "    x * x\n",
    "}"
   ]
  },
  {
   "cell_type": "code",
   "execution_count": 28,
   "id": "synthetic-chosen",
   "metadata": {},
   "outputs": [
    {
     "name": "stdout",
     "output_type": "stream",
     "text": [
      "16\n"
     ]
    }
   ],
   "source": [
    "println!(\"{}\", sqr(4.0));"
   ]
  },
  {
   "cell_type": "markdown",
   "id": "actual-queue",
   "metadata": {},
   "source": [
    "Functions are one place where the compiler will not work out types for you. And this in fact was a deliberate decision, since languages like Haskell have such powerful type inference that there are hardly any explicit type names. It's actually good Haskell style to put in explicit type signatures for functions. Rust requires this always."
   ]
  },
  {
   "cell_type": "markdown",
   "id": "miniature-realtor",
   "metadata": {},
   "source": [
    "**Note:** The `()` type is the empty type, nada, `void`, zilch"
   ]
  },
  {
   "cell_type": "markdown",
   "id": "incorporated-relations",
   "metadata": {},
   "source": [
    "### References"
   ]
  },
  {
   "cell_type": "code",
   "execution_count": 33,
   "id": "protective-sight",
   "metadata": {},
   "outputs": [],
   "source": [
    "fn by_ref(x: &i32) -> i32 {\n",
    "    *x + 1\n",
    "}"
   ]
  },
  {
   "cell_type": "code",
   "execution_count": 34,
   "id": "adjacent-uzbekistan",
   "metadata": {},
   "outputs": [
    {
     "name": "stdout",
     "output_type": "stream",
     "text": [
      "11 42\n"
     ]
    }
   ],
   "source": [
    "let i = 10;\n",
    "let res1 = by_ref(&i);\n",
    "let res2 = by_ref(&41);\n",
    "println!(\"{} {}\", res1, res2);"
   ]
  },
  {
   "cell_type": "markdown",
   "id": "copyrighted-clearance",
   "metadata": {},
   "source": [
    "In rust `&` and `*` are like that in C++.\n",
    "\n",
    "- `&` = address of\n",
    "- `*` = value at"
   ]
  },
  {
   "cell_type": "markdown",
   "id": "contemporary-behalf",
   "metadata": {},
   "source": [
    "Mutable references:"
   ]
  },
  {
   "cell_type": "code",
   "execution_count": 35,
   "id": "alternate-luxury",
   "metadata": {},
   "outputs": [
    {
     "name": "stdout",
     "output_type": "stream",
     "text": [
      "res is 1\n"
     ]
    }
   ],
   "source": [
    "fn modifies(x: &mut f64) {\n",
    "    *x = 1.0;\n",
    "}\n",
    "\n",
    "let mut res = 0.0;\n",
    "modifies(&mut res);\n",
    "println!(\"res is {}\", res);"
   ]
  },
  {
   "cell_type": "code",
   "execution_count": null,
   "id": "organic-thirty",
   "metadata": {},
   "outputs": [],
   "source": []
  }
 ],
 "metadata": {
  "kernelspec": {
   "display_name": "Rust",
   "language": "rust",
   "name": "rust"
  },
  "language_info": {
   "codemirror_mode": "rust",
   "file_extension": ".rs",
   "mimetype": "text/rust",
   "name": "Rust",
   "pygment_lexer": "rust",
   "version": ""
  }
 },
 "nbformat": 4,
 "nbformat_minor": 5
}
